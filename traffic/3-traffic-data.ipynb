{
 "cells": [
  {
   "cell_type": "code",
   "execution_count": 20,
   "metadata": {},
   "outputs": [],
   "source": [
    "import pandas as pd\n",
    "import matplotlib.pyplot as plt\n",
    "import seaborn as sns\n",
    "import numpy as np"
   ]
  },
  {
   "cell_type": "code",
   "execution_count": 21,
   "metadata": {},
   "outputs": [
    {
     "data": {
      "text/html": [
       "<div>\n",
       "<style scoped>\n",
       "    .dataframe tbody tr th:only-of-type {\n",
       "        vertical-align: middle;\n",
       "    }\n",
       "\n",
       "    .dataframe tbody tr th {\n",
       "        vertical-align: top;\n",
       "    }\n",
       "\n",
       "    .dataframe thead th {\n",
       "        text-align: right;\n",
       "    }\n",
       "</style>\n",
       "<table border=\"1\" class=\"dataframe\">\n",
       "  <thead>\n",
       "    <tr style=\"text-align: right;\">\n",
       "      <th></th>\n",
       "      <th>Country</th>\n",
       "      <th>Users</th>\n",
       "      <th>Sessions</th>\n",
       "      <th>Bounces</th>\n",
       "      <th>Avg. Session Duration</th>\n",
       "      <th>Avg. Page Load Time (sec)</th>\n",
       "      <th>Page Load Sample</th>\n",
       "      <th>Goal Completions</th>\n",
       "    </tr>\n",
       "  </thead>\n",
       "  <tbody>\n",
       "    <tr>\n",
       "      <th>164</th>\n",
       "      <td>Serbia</td>\n",
       "      <td>123</td>\n",
       "      <td>143</td>\n",
       "      <td>61</td>\n",
       "      <td>74.048951</td>\n",
       "      <td>1.51275</td>\n",
       "      <td>20</td>\n",
       "      <td>138</td>\n",
       "    </tr>\n",
       "    <tr>\n",
       "      <th>61</th>\n",
       "      <td>Eswatini</td>\n",
       "      <td>7</td>\n",
       "      <td>10</td>\n",
       "      <td>1</td>\n",
       "      <td>94.300000</td>\n",
       "      <td>0.00000</td>\n",
       "      <td>0</td>\n",
       "      <td>15</td>\n",
       "    </tr>\n",
       "    <tr>\n",
       "      <th>77</th>\n",
       "      <td>Guadeloupe</td>\n",
       "      <td>7</td>\n",
       "      <td>10</td>\n",
       "      <td>1</td>\n",
       "      <td>230.400000</td>\n",
       "      <td>0.00000</td>\n",
       "      <td>0</td>\n",
       "      <td>18</td>\n",
       "    </tr>\n",
       "  </tbody>\n",
       "</table>\n",
       "</div>"
      ],
      "text/plain": [
       "        Country  Users  Sessions  Bounces  Avg. Session Duration  \\\n",
       "164      Serbia    123       143       61              74.048951   \n",
       "61     Eswatini      7        10        1              94.300000   \n",
       "77   Guadeloupe      7        10        1             230.400000   \n",
       "\n",
       "     Avg. Page Load Time (sec)  Page Load Sample  Goal Completions  \n",
       "164                    1.51275                20               138  \n",
       "61                     0.00000                 0                15  \n",
       "77                     0.00000                 0                18  "
      ]
     },
     "execution_count": 21,
     "metadata": {},
     "output_type": "execute_result"
    }
   ],
   "source": [
    "traffic_df = pd.read_excel('../data/oppia-traffic-by-country.xlsx', sheet_name = 'Country Traffic', skiprows = 14)\n",
    "traffic_df = traffic_df.iloc[1:, 0:8] # Skip (not set) value in Country col\n",
    "traffic_df.sample(3)\n"
   ]
  },
  {
   "cell_type": "code",
   "execution_count": 22,
   "metadata": {},
   "outputs": [
    {
     "name": "stdout",
     "output_type": "stream",
     "text": [
      "Oppia traffic data has 214 countries\n"
     ]
    }
   ],
   "source": [
    "print('Oppia traffic data has {} countries'.format(len(traffic_df)))"
   ]
  },
  {
   "cell_type": "code",
   "execution_count": 23,
   "metadata": {},
   "outputs": [
    {
     "data": {
      "text/html": [
       "<div>\n",
       "<style scoped>\n",
       "    .dataframe tbody tr th:only-of-type {\n",
       "        vertical-align: middle;\n",
       "    }\n",
       "\n",
       "    .dataframe tbody tr th {\n",
       "        vertical-align: top;\n",
       "    }\n",
       "\n",
       "    .dataframe thead th {\n",
       "        text-align: right;\n",
       "    }\n",
       "</style>\n",
       "<table border=\"1\" class=\"dataframe\">\n",
       "  <thead>\n",
       "    <tr style=\"text-align: right;\">\n",
       "      <th></th>\n",
       "      <th>country</th>\n",
       "      <th>income_group</th>\n",
       "      <th>econ_region</th>\n",
       "      <th>geo_region</th>\n",
       "      <th>cluster</th>\n",
       "      <th>English</th>\n",
       "      <th>Spanish</th>\n",
       "      <th>French</th>\n",
       "      <th>Portuguese</th>\n",
       "      <th>Chinese</th>\n",
       "      <th>Hindi</th>\n",
       "      <th>Arabic</th>\n",
       "      <th>english_popular</th>\n",
       "    </tr>\n",
       "  </thead>\n",
       "  <tbody>\n",
       "    <tr>\n",
       "      <th>58</th>\n",
       "      <td>Jamaica</td>\n",
       "      <td>Upper middle income</td>\n",
       "      <td>Latin America and the Caribbean</td>\n",
       "      <td>Latin America and the Caribbean</td>\n",
       "      <td>Mid</td>\n",
       "      <td>True</td>\n",
       "      <td>False</td>\n",
       "      <td>False</td>\n",
       "      <td>False</td>\n",
       "      <td>False</td>\n",
       "      <td>False</td>\n",
       "      <td>False</td>\n",
       "      <td>True</td>\n",
       "    </tr>\n",
       "    <tr>\n",
       "      <th>75</th>\n",
       "      <td>Morocco</td>\n",
       "      <td>Lower middle income</td>\n",
       "      <td>Middle East, North Africa, and Pakistan</td>\n",
       "      <td>Middle East and North Africa</td>\n",
       "      <td>Mid</td>\n",
       "      <td>False</td>\n",
       "      <td>False</td>\n",
       "      <td>True</td>\n",
       "      <td>False</td>\n",
       "      <td>False</td>\n",
       "      <td>False</td>\n",
       "      <td>True</td>\n",
       "      <td>False</td>\n",
       "    </tr>\n",
       "    <tr>\n",
       "      <th>80</th>\n",
       "      <td>Montenegro</td>\n",
       "      <td>Upper middle income</td>\n",
       "      <td>Emerging and Developing Europe</td>\n",
       "      <td>Europe and North America</td>\n",
       "      <td>Mid</td>\n",
       "      <td>False</td>\n",
       "      <td>False</td>\n",
       "      <td>False</td>\n",
       "      <td>False</td>\n",
       "      <td>False</td>\n",
       "      <td>False</td>\n",
       "      <td>False</td>\n",
       "      <td>False</td>\n",
       "    </tr>\n",
       "  </tbody>\n",
       "</table>\n",
       "</div>"
      ],
      "text/plain": [
       "       country         income_group                              econ_region  \\\n",
       "58     Jamaica  Upper middle income          Latin America and the Caribbean   \n",
       "75     Morocco  Lower middle income  Middle East, North Africa, and Pakistan   \n",
       "80  Montenegro  Upper middle income           Emerging and Developing Europe   \n",
       "\n",
       "                         geo_region cluster  English  Spanish  French  \\\n",
       "58  Latin America and the Caribbean     Mid     True    False   False   \n",
       "75     Middle East and North Africa     Mid    False    False    True   \n",
       "80         Europe and North America     Mid    False    False   False   \n",
       "\n",
       "    Portuguese  Chinese  Hindi  Arabic  english_popular  \n",
       "58       False    False  False   False             True  \n",
       "75       False    False  False    True            False  \n",
       "80       False    False  False   False            False  "
      ]
     },
     "execution_count": 23,
     "metadata": {},
     "output_type": "execute_result"
    }
   ],
   "source": [
    "lang_edu_df = pd.read_csv('../data/lang_edu_df.csv')\n",
    "lang_df = lang_edu_df.iloc[:, 8:]\n",
    "lang_df.sample(3)"
   ]
  },
  {
   "cell_type": "code",
   "execution_count": 24,
   "metadata": {},
   "outputs": [
    {
     "name": "stdout",
     "output_type": "stream",
     "text": [
      "Language data has 134 countries\n"
     ]
    }
   ],
   "source": [
    "print('Language data has {} countries'.format(len(lang_df)))"
   ]
  },
  {
   "cell_type": "markdown",
   "metadata": {},
   "source": [
    "# Fix country names mismatch"
   ]
  },
  {
   "cell_type": "code",
   "execution_count": 25,
   "metadata": {},
   "outputs": [
    {
     "data": {
      "text/plain": [
       "['Bosnia and Herzegovina',\n",
       " 'Brunei Darussalam',\n",
       " 'Congo, Democratic Rep.',\n",
       " 'Cape Verde',\n",
       " 'Czech Republic',\n",
       " 'Gambia, The',\n",
       " 'Hong Kong SAR',\n",
       " 'Iran, Islamic Rep.',\n",
       " 'Kyrgyz Republic',\n",
       " 'Korea, Rep.',\n",
       " 'Lao PDR',\n",
       " 'Russian Federation',\n",
       " 'Swaziland',\n",
       " 'Chad',\n",
       " 'Trinidad and Tobago',\n",
       " 'Taiwan, China',\n",
       " 'Viet Nam']"
      ]
     },
     "execution_count": 25,
     "metadata": {},
     "output_type": "execute_result"
    }
   ],
   "source": [
    "traffic_country = list(traffic_df.Country)\n",
    "lang_country = list(lang_df.country)\n",
    "\n",
    "# Find what countries having names listed differently\n",
    "mismatch = []\n",
    "for country in lang_country:\n",
    "    if country not in traffic_country:\n",
    "        mismatch.append(country)\n",
    "mismatch"
   ]
  },
  {
   "cell_type": "code",
   "execution_count": 26,
   "metadata": {},
   "outputs": [],
   "source": [
    "change_country_name = {'Brunei Darussalam':'Brunei' , \n",
    "                        'Cabo Verde': 'Cape Verde', \n",
    "                         'Congo, Democratic Rep.': 'Congo - Kinshasa',\n",
    "                       'Czech Republic': 'Czechia', \n",
    "                         'Hong Kong SAR':'Hong Kong', \n",
    "                         'Iran, Islamic Rep.':'Iran',\n",
    "                        'Korea, Rep.':'South Korea', \n",
    "                         'Kyrgyz Republic':'Kyrgyzstan', \n",
    "                         'Lao PDR':'Laos', \n",
    "                         'Russian Federation':'Russia',\n",
    "                        'Swaziland':'Eswatini', \n",
    "                         'Taiwan, China':'Taiwan', \n",
    "                         'Viet Nam': 'Vietnam',\n",
    "                          'Gambia, The': 'Gambia',\n",
    "                      'Bosnia and Herzegovina':'Bosnia & Herzegovina',\n",
    "                      'Trinidad and Tobago': 'Trinidad & Tobago'} \n",
    "\n",
    "# Change country names \n",
    "lang_df.country.replace(change_country_name, inplace = True)"
   ]
  },
  {
   "cell_type": "code",
   "execution_count": 27,
   "metadata": {},
   "outputs": [
    {
     "name": "stdout",
     "output_type": "stream",
     "text": [
      "There are 2 countries in the language/cluster data set but not in the Oppia traffic dataset. Maybe because we have no traffic from these 2 countries: ['Cape Verde', 'Chad']\n"
     ]
    }
   ],
   "source": [
    "traffic_country = list(traffic_df.Country)\n",
    "lang_country = list(lang_df.country)\n",
    "\n",
    "mismatch = []\n",
    "for country in lang_country:\n",
    "    if country not in traffic_country:\n",
    "        mismatch.append(country)\n",
    "print('There are 2 countries in the language/cluster data set but not in the Oppia traffic dataset. \\\n",
    "Maybe because we have no traffic from these 2 countries: {}'.format(mismatch))"
   ]
  },
  {
   "cell_type": "code",
   "execution_count": 28,
   "metadata": {},
   "outputs": [
    {
     "name": "stdout",
     "output_type": "stream",
     "text": [
      "There are 82 countries excluded in the language/education dataset due to lack of data in CGI dataset. They are: ['Afghanistan', 'American Samoa', 'Andorra', 'Angola', 'Anguilla', 'Antigua & Barbuda', 'Aruba', 'Bahamas', 'Barbados', 'Belarus', 'Belize', 'Bermuda', 'Bolivia', 'British Virgin Islands', 'Burkina Faso', 'Caribbean Netherlands', 'Cayman Islands', 'Central African Republic', 'Congo - Brazzaville', 'Cook Islands', 'Côte d’Ivoire', 'Cuba', 'Curaçao', 'Djibouti', 'Dominica', 'Faroe Islands', 'Fiji', 'French Guiana', 'French Polynesia', 'Gabon', 'Gibraltar', 'Grenada', 'Guadeloupe', 'Guam', 'Guernsey', 'Guyana', 'Haiti', 'Iraq', 'Jersey', 'Kiribati', 'Kosovo', 'Libya', 'Liechtenstein', 'Macao', 'Madagascar', 'Maldives', 'Marshall Islands', 'Martinique', 'Micronesia', 'Monaco', 'Myanmar (Burma)', 'New Caledonia', 'North Macedonia', 'Northern Mariana Islands', 'Palau', 'Palestine', 'Papua New Guinea', 'Puerto Rico', 'Réunion', 'Samoa', 'Sint Maarten', 'Slovakia', 'Solomon Islands', 'Somalia', 'South Sudan', 'St. Barthélemy', 'St. Kitts & Nevis', 'St. Lucia', 'St. Martin', 'St. Vincent & Grenadines', 'Sudan', 'Suriname', 'Syria', 'Timor-Leste', 'Togo', 'Tonga', 'Turkmenistan', 'Turks & Caicos Islands', 'U.S. Virgin Islands', 'Uzbekistan', 'Vanuatu', 'Western Sahara']\n"
     ]
    }
   ],
   "source": [
    "# Find countries in the Opppia traffic dataset but not in language data\n",
    "excluded_country = []\n",
    "for country in traffic_country:\n",
    "    if country not in lang_country:\n",
    "        excluded_country.append(country)\n",
    "print('There are {} countries excluded in the language/education dataset due to lack of data in CGI dataset. They are: {}'.\\\n",
    "      format(len(excluded_country), excluded_country))"
   ]
  },
  {
   "cell_type": "markdown",
   "metadata": {},
   "source": [
    "# Join data"
   ]
  },
  {
   "cell_type": "code",
   "execution_count": 29,
   "metadata": {},
   "outputs": [
    {
     "data": {
      "text/html": [
       "<div>\n",
       "<style scoped>\n",
       "    .dataframe tbody tr th:only-of-type {\n",
       "        vertical-align: middle;\n",
       "    }\n",
       "\n",
       "    .dataframe tbody tr th {\n",
       "        vertical-align: top;\n",
       "    }\n",
       "\n",
       "    .dataframe thead th {\n",
       "        text-align: right;\n",
       "    }\n",
       "</style>\n",
       "<table border=\"1\" class=\"dataframe\">\n",
       "  <thead>\n",
       "    <tr style=\"text-align: right;\">\n",
       "      <th></th>\n",
       "      <th>country</th>\n",
       "      <th>income_group</th>\n",
       "      <th>econ_region</th>\n",
       "      <th>geo_region</th>\n",
       "      <th>cluster</th>\n",
       "      <th>English</th>\n",
       "      <th>Spanish</th>\n",
       "      <th>French</th>\n",
       "      <th>Portuguese</th>\n",
       "      <th>Chinese</th>\n",
       "      <th>Hindi</th>\n",
       "      <th>Arabic</th>\n",
       "      <th>english_popular</th>\n",
       "      <th>Users</th>\n",
       "      <th>Sessions</th>\n",
       "      <th>Bounces</th>\n",
       "      <th>Avg. Session Duration</th>\n",
       "      <th>Avg. Page Load Time (sec)</th>\n",
       "      <th>Page Load Sample</th>\n",
       "      <th>Goal Completions</th>\n",
       "    </tr>\n",
       "  </thead>\n",
       "  <tbody>\n",
       "    <tr>\n",
       "      <th>22</th>\n",
       "      <td>Cameroon</td>\n",
       "      <td>Lower middle income</td>\n",
       "      <td>Sub-Saharan Africa</td>\n",
       "      <td>Sub-Saharan Africa</td>\n",
       "      <td>Low</td>\n",
       "      <td>True</td>\n",
       "      <td>False</td>\n",
       "      <td>True</td>\n",
       "      <td>False</td>\n",
       "      <td>False</td>\n",
       "      <td>False</td>\n",
       "      <td>False</td>\n",
       "      <td>False</td>\n",
       "      <td>77.0</td>\n",
       "      <td>115.0</td>\n",
       "      <td>43.0</td>\n",
       "      <td>273.817391</td>\n",
       "      <td>0.00000</td>\n",
       "      <td>0.0</td>\n",
       "      <td>128.0</td>\n",
       "    </tr>\n",
       "    <tr>\n",
       "      <th>71</th>\n",
       "      <td>Lesotho</td>\n",
       "      <td>Lower middle income</td>\n",
       "      <td>Sub-Saharan Africa</td>\n",
       "      <td>Sub-Saharan Africa</td>\n",
       "      <td>Low</td>\n",
       "      <td>True</td>\n",
       "      <td>False</td>\n",
       "      <td>False</td>\n",
       "      <td>False</td>\n",
       "      <td>False</td>\n",
       "      <td>False</td>\n",
       "      <td>False</td>\n",
       "      <td>False</td>\n",
       "      <td>7.0</td>\n",
       "      <td>8.0</td>\n",
       "      <td>6.0</td>\n",
       "      <td>9.625000</td>\n",
       "      <td>0.00000</td>\n",
       "      <td>0.0</td>\n",
       "      <td>2.0</td>\n",
       "    </tr>\n",
       "    <tr>\n",
       "      <th>88</th>\n",
       "      <td>Nigeria</td>\n",
       "      <td>Lower middle income</td>\n",
       "      <td>Sub-Saharan Africa</td>\n",
       "      <td>Sub-Saharan Africa</td>\n",
       "      <td>Low</td>\n",
       "      <td>True</td>\n",
       "      <td>False</td>\n",
       "      <td>False</td>\n",
       "      <td>False</td>\n",
       "      <td>False</td>\n",
       "      <td>False</td>\n",
       "      <td>False</td>\n",
       "      <td>True</td>\n",
       "      <td>1486.0</td>\n",
       "      <td>2089.0</td>\n",
       "      <td>870.0</td>\n",
       "      <td>225.396841</td>\n",
       "      <td>18.74715</td>\n",
       "      <td>20.0</td>\n",
       "      <td>2090.0</td>\n",
       "    </tr>\n",
       "  </tbody>\n",
       "</table>\n",
       "</div>"
      ],
      "text/plain": [
       "     country         income_group         econ_region          geo_region  \\\n",
       "22  Cameroon  Lower middle income  Sub-Saharan Africa  Sub-Saharan Africa   \n",
       "71   Lesotho  Lower middle income  Sub-Saharan Africa  Sub-Saharan Africa   \n",
       "88   Nigeria  Lower middle income  Sub-Saharan Africa  Sub-Saharan Africa   \n",
       "\n",
       "   cluster  English  Spanish  French  Portuguese  Chinese  Hindi  Arabic  \\\n",
       "22     Low     True    False    True       False    False  False   False   \n",
       "71     Low     True    False   False       False    False  False   False   \n",
       "88     Low     True    False   False       False    False  False   False   \n",
       "\n",
       "    english_popular   Users  Sessions  Bounces  Avg. Session Duration  \\\n",
       "22            False    77.0     115.0     43.0             273.817391   \n",
       "71            False     7.0       8.0      6.0               9.625000   \n",
       "88             True  1486.0    2089.0    870.0             225.396841   \n",
       "\n",
       "    Avg. Page Load Time (sec)  Page Load Sample  Goal Completions  \n",
       "22                    0.00000               0.0             128.0  \n",
       "71                    0.00000               0.0               2.0  \n",
       "88                   18.74715              20.0            2090.0  "
      ]
     },
     "execution_count": 29,
     "metadata": {},
     "output_type": "execute_result"
    }
   ],
   "source": [
    "#Join traffic and lang/edu df\n",
    "joined_df = lang_df.merge(traffic_df, how = 'left', left_on = 'country', right_on = 'Country')\\\n",
    "            .drop(['Country'], axis = 1)\n",
    "joined_df.sample(3)"
   ]
  },
  {
   "cell_type": "code",
   "execution_count": 30,
   "metadata": {},
   "outputs": [],
   "source": [
    "target_countries = joined_df[joined_df['cluster'] == 'Mid']\n",
    "\n",
    "target_eng_popular = target_countries[target_countries.english_popular == True].country.unique()\n",
    "target_eng = target_countries[target_countries.English == True].country.unique()"
   ]
  },
  {
   "cell_type": "code",
   "execution_count": 32,
   "metadata": {},
   "outputs": [],
   "source": [
    "# Create column to identified if this country has any page load sample\n",
    "index_page_sampled = joined_df[joined_df['Page Load Sample'] == 0].index\n",
    "\n",
    "joined_df['page_sample_tf'] = False\n",
    "joined_df.loc[index_page_sampled, 'page_sample_tf'] = True"
   ]
  },
  {
   "cell_type": "code",
   "execution_count": 34,
   "metadata": {},
   "outputs": [],
   "source": [
    "joined_df.to_csv('../output/lang_edu_traffic.csv', index = False)"
   ]
  },
  {
   "cell_type": "code",
   "execution_count": 146,
   "metadata": {},
   "outputs": [
    {
     "name": "stderr",
     "output_type": "stream",
     "text": [
      "/Library/Frameworks/Python.framework/Versions/3.7/lib/python3.7/site-packages/statsmodels/nonparametric/kde.py:448: RuntimeWarning: invalid value encountered in greater\n",
      "  X = X[np.logical_and(X > clip[0], X < clip[1])] # won't work for two columns.\n",
      "/Library/Frameworks/Python.framework/Versions/3.7/lib/python3.7/site-packages/statsmodels/nonparametric/kde.py:448: RuntimeWarning: invalid value encountered in less\n",
      "  X = X[np.logical_and(X > clip[0], X < clip[1])] # won't work for two columns.\n"
     ]
    },
    {
     "data": {
      "text/plain": [
       "<matplotlib.axes._subplots.AxesSubplot at 0x7f8372b14668>"
      ]
     },
     "execution_count": 146,
     "metadata": {},
     "output_type": "execute_result"
    },
    {
     "data": {
      "image/png": "[encoded data removed]",
      "text/plain": [
       "<Figure size 432x288 with 1 Axes>"
      ]
     },
     "metadata": {
      "needs_background": "light"
     },
     "output_type": "display_data"
    }
   ],
   "source": [
    "sns.distplot(joined_df[joined_df.cluster == \"Mid\"]['Users'], hist=False, rug=True)"
   ]
  },
  {
   "cell_type": "code",
   "execution_count": 16,
   "metadata": {},
   "outputs": [
    {
     "data": {
      "text/html": [
       "<div>\n",
       "<style scoped>\n",
       "    .dataframe tbody tr th:only-of-type {\n",
       "        vertical-align: middle;\n",
       "    }\n",
       "\n",
       "    .dataframe tbody tr th {\n",
       "        vertical-align: top;\n",
       "    }\n",
       "\n",
       "    .dataframe thead tr th {\n",
       "        text-align: left;\n",
       "    }\n",
       "\n",
       "    .dataframe thead tr:last-of-type th {\n",
       "        text-align: right;\n",
       "    }\n",
       "</style>\n",
       "<table border=\"1\" class=\"dataframe\">\n",
       "  <thead>\n",
       "    <tr>\n",
       "      <th></th>\n",
       "      <th colspan=\"8\" halign=\"left\">Users</th>\n",
       "      <th colspan=\"2\" halign=\"left\">Sessions</th>\n",
       "      <th>...</th>\n",
       "      <th colspan=\"2\" halign=\"left\">Page Load Sample</th>\n",
       "      <th colspan=\"8\" halign=\"left\">Goal Completions</th>\n",
       "    </tr>\n",
       "    <tr>\n",
       "      <th></th>\n",
       "      <th>count</th>\n",
       "      <th>mean</th>\n",
       "      <th>std</th>\n",
       "      <th>min</th>\n",
       "      <th>25%</th>\n",
       "      <th>50%</th>\n",
       "      <th>75%</th>\n",
       "      <th>max</th>\n",
       "      <th>count</th>\n",
       "      <th>mean</th>\n",
       "      <th>...</th>\n",
       "      <th>75%</th>\n",
       "      <th>max</th>\n",
       "      <th>count</th>\n",
       "      <th>mean</th>\n",
       "      <th>std</th>\n",
       "      <th>min</th>\n",
       "      <th>25%</th>\n",
       "      <th>50%</th>\n",
       "      <th>75%</th>\n",
       "      <th>max</th>\n",
       "    </tr>\n",
       "    <tr>\n",
       "      <th>cluster</th>\n",
       "      <th></th>\n",
       "      <th></th>\n",
       "      <th></th>\n",
       "      <th></th>\n",
       "      <th></th>\n",
       "      <th></th>\n",
       "      <th></th>\n",
       "      <th></th>\n",
       "      <th></th>\n",
       "      <th></th>\n",
       "      <th></th>\n",
       "      <th></th>\n",
       "      <th></th>\n",
       "      <th></th>\n",
       "      <th></th>\n",
       "      <th></th>\n",
       "      <th></th>\n",
       "      <th></th>\n",
       "      <th></th>\n",
       "      <th></th>\n",
       "      <th></th>\n",
       "    </tr>\n",
       "  </thead>\n",
       "  <tbody>\n",
       "    <tr>\n",
       "      <th>High</th>\n",
       "      <td>35.0</td>\n",
       "      <td>2429.800000</td>\n",
       "      <td>7383.487323</td>\n",
       "      <td>19.0</td>\n",
       "      <td>187.0</td>\n",
       "      <td>335.0</td>\n",
       "      <td>1195.00</td>\n",
       "      <td>38759.0</td>\n",
       "      <td>35.0</td>\n",
       "      <td>3810.771429</td>\n",
       "      <td>...</td>\n",
       "      <td>19.50</td>\n",
       "      <td>965.0</td>\n",
       "      <td>35.0</td>\n",
       "      <td>5505.342857</td>\n",
       "      <td>16440.096223</td>\n",
       "      <td>27.0</td>\n",
       "      <td>275.00</td>\n",
       "      <td>582.0</td>\n",
       "      <td>2053.0</td>\n",
       "      <td>87106.0</td>\n",
       "    </tr>\n",
       "    <tr>\n",
       "      <th>Low</th>\n",
       "      <td>40.0</td>\n",
       "      <td>730.450000</td>\n",
       "      <td>2620.530950</td>\n",
       "      <td>1.0</td>\n",
       "      <td>13.0</td>\n",
       "      <td>69.5</td>\n",
       "      <td>194.25</td>\n",
       "      <td>16169.0</td>\n",
       "      <td>40.0</td>\n",
       "      <td>1106.400000</td>\n",
       "      <td>...</td>\n",
       "      <td>5.25</td>\n",
       "      <td>589.0</td>\n",
       "      <td>40.0</td>\n",
       "      <td>1377.800000</td>\n",
       "      <td>5117.636114</td>\n",
       "      <td>0.0</td>\n",
       "      <td>22.75</td>\n",
       "      <td>103.0</td>\n",
       "      <td>372.0</td>\n",
       "      <td>31843.0</td>\n",
       "    </tr>\n",
       "    <tr>\n",
       "      <th>Mid</th>\n",
       "      <td>57.0</td>\n",
       "      <td>540.508772</td>\n",
       "      <td>951.242949</td>\n",
       "      <td>6.0</td>\n",
       "      <td>80.0</td>\n",
       "      <td>204.0</td>\n",
       "      <td>648.00</td>\n",
       "      <td>6270.0</td>\n",
       "      <td>57.0</td>\n",
       "      <td>809.842105</td>\n",
       "      <td>...</td>\n",
       "      <td>16.00</td>\n",
       "      <td>191.0</td>\n",
       "      <td>57.0</td>\n",
       "      <td>1028.719298</td>\n",
       "      <td>1525.871610</td>\n",
       "      <td>3.0</td>\n",
       "      <td>113.00</td>\n",
       "      <td>343.0</td>\n",
       "      <td>1066.0</td>\n",
       "      <td>7378.0</td>\n",
       "    </tr>\n",
       "  </tbody>\n",
       "</table>\n",
       "<p>3 rows × 56 columns</p>\n",
       "</div>"
      ],
      "text/plain": [
       "        Users                                                                  \\\n",
       "        count         mean          std   min    25%    50%      75%      max   \n",
       "cluster                                                                         \n",
       "High     35.0  2429.800000  7383.487323  19.0  187.0  335.0  1195.00  38759.0   \n",
       "Low      40.0   730.450000  2620.530950   1.0   13.0   69.5   194.25  16169.0   \n",
       "Mid      57.0   540.508772   951.242949   6.0   80.0  204.0   648.00   6270.0   \n",
       "\n",
       "        Sessions               ... Page Load Sample        Goal Completions  \\\n",
       "           count         mean  ...              75%    max            count   \n",
       "cluster                        ...                                            \n",
       "High        35.0  3810.771429  ...            19.50  965.0             35.0   \n",
       "Low         40.0  1106.400000  ...             5.25  589.0             40.0   \n",
       "Mid         57.0   809.842105  ...            16.00  191.0             57.0   \n",
       "\n",
       "                                                                          \n",
       "                mean           std   min     25%    50%     75%      max  \n",
       "cluster                                                                   \n",
       "High     5505.342857  16440.096223  27.0  275.00  582.0  2053.0  87106.0  \n",
       "Low      1377.800000   5117.636114   0.0   22.75  103.0   372.0  31843.0  \n",
       "Mid      1028.719298   1525.871610   3.0  113.00  343.0  1066.0   7378.0  \n",
       "\n",
       "[3 rows x 56 columns]"
      ]
     },
     "execution_count": 16,
     "metadata": {},
     "output_type": "execute_result"
    }
   ],
   "source": [
    "joined_df.groupby('cluster').describe()"
   ]
  },
  {
   "cell_type": "code",
   "execution_count": null,
   "metadata": {},
   "outputs": [],
   "source": []
  }
 ],
 "metadata": {
  "kernelspec": {
   "display_name": "Python 3",
   "language": "python",
   "name": "python3"
  },
  "language_info": {
   "codemirror_mode": {
    "name": "ipython",
    "version": 3
   },
   "file_extension": ".py",
   "mimetype": "text/x-python",
   "name": "python",
   "nbconvert_exporter": "python",
   "pygments_lexer": "ipython3",
   "version": "3.7.2"
  }
 },
 "nbformat": 4,
 "nbformat_minor": 4
}
